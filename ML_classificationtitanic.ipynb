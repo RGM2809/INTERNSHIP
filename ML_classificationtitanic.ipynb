{
  "nbformat": 4,
  "nbformat_minor": 0,
  "metadata": {
    "colab": {
      "provenance": []
    },
    "kernelspec": {
      "name": "python3",
      "display_name": "Python 3"
    },
    "language_info": {
      "name": "python"
    }
  },
  "cells": [
    {
      "cell_type": "code",
      "execution_count": 1,
      "metadata": {
        "colab": {
          "base_uri": "https://localhost:8080/"
        },
        "id": "OM3ubUy9Jn1z",
        "outputId": "23b9c6b1-d633-4c7a-c717-e80c35769a5a"
      },
      "outputs": [
        {
          "output_type": "stream",
          "name": "stdout",
          "text": [
            "Accuracy: 0.53125\n",
            "Classification Report:\n",
            "               precision    recall  f1-score   support\n",
            "\n",
            "           0       0.51      0.61      0.55        76\n",
            "           1       0.57      0.46      0.51        84\n",
            "\n",
            "    accuracy                           0.53       160\n",
            "   macro avg       0.54      0.53      0.53       160\n",
            "weighted avg       0.54      0.53      0.53       160\n",
            "\n",
            "Confusion Matrix:\n",
            " [[46 30]\n",
            " [45 39]]\n"
          ]
        }
      ],
      "source": [
        "#1. Logistic Regression\n",
        "import pandas as pd\n",
        "from sklearn.linear_model import LogisticRegression\n",
        "from sklearn.model_selection import train_test_split\n",
        "from sklearn.metrics import accuracy_score, classification_report, confusion_matrix\n",
        "from sklearn.preprocessing import LabelEncoder\n",
        "from imblearn.over_sampling import SMOTE\n",
        "from sklearn.decomposition import PCA\n",
        "import seaborn as sns\n",
        "import matplotlib.pyplot as plt\n",
        "from collections import Counter\n",
        "from sklearn.naive_bayes import GaussianNB\n",
        "\n",
        "df = pd.read_csv('tested.csv')\n",
        "\n",
        "df = df[['Pclass', 'Sex', 'Survived', 'Age']]\n",
        "\n",
        "# Handle missing values\n",
        "df['Age'].fillna(df['Age'].median(), inplace=True)\n",
        "\n",
        "# Convert categorical variables into numeric variables\n",
        "df['Sex'] = df['Sex'].map({'male': 0, 'female': 1})\n",
        "\n",
        "# Feature selection\n",
        "X = df[['Pclass', 'Sex', 'Age']]\n",
        "y = df['Survived']\n",
        "\n",
        "# Identify and handle outliers using Interquartile Range (IQR)\n",
        "def handle_outliers(df, column):\n",
        "    Q1 = df[column].quantile(0.25)\n",
        "    Q3 = df[column].quantile(0.75)\n",
        "    IQR = Q3 - Q1\n",
        "    lower = Q1 - 1.5 * IQR\n",
        "    upper = Q3 + 1.5 * IQR\n",
        "    df[column] = df[column].apply(lambda x: upper if x > upper else (lower if x < lower else x))\n",
        "\n",
        "handle_outliers(df, 'Age')\n",
        "\n",
        "# Handle data imbalance using SMOTE\n",
        "smote = SMOTE(random_state=0)\n",
        "X, y = smote.fit_resample(X, y)\n",
        "\n",
        "# Dimensionality reduction using Principle component analysis\n",
        "pca = PCA(n_components=2)\n",
        "X = pca.fit_transform(X)\n",
        "\n",
        "X_train, X_test, y_train, y_test = train_test_split(X, y, random_state=0, test_size=0.3)\n",
        "\n",
        "logr = LogisticRegression()\n",
        "\n",
        "logr.fit(X_train, y_train)\n",
        "\n",
        "y_pred = logr.predict(X_test)\n",
        "\n",
        "# Print evaluation metrics\n",
        "print('Accuracy:', accuracy_score(y_test, y_pred))\n",
        "print('Classification Report:\\n', classification_report(y_test, y_pred))\n",
        "print('Confusion Matrix:\\n', confusion_matrix(y_test, y_pred))\n",
        "\n"
      ]
    },
    {
      "cell_type": "code",
      "source": [
        "#2. Naive Bayes\n",
        "import pandas as pd\n",
        "from sklearn.naive_bayes import GaussianNB\n",
        "from sklearn.model_selection import train_test_split\n",
        "from sklearn.metrics import accuracy_score, classification_report, confusion_matrix\n",
        "from sklearn.preprocessing import LabelEncoder\n",
        "from imblearn.over_sampling import SMOTE\n",
        "from sklearn.decomposition import PCA\n",
        "import seaborn as sns\n",
        "import matplotlib.pyplot as plt\n",
        "from collections import Counter\n",
        "\n",
        "df = pd.read_csv('tested.csv')\n",
        "\n",
        "df = df[['Pclass', 'Sex', 'Survived', 'Age']]\n",
        "\n",
        "# Handle missing values\n",
        "df['Age'].fillna(df['Age'].median(), inplace=True)\n",
        "\n",
        "# Convert categorical variables into numeric variables\n",
        "df['Sex'] = df['Sex'].map({'male': 0, 'female': 1})\n",
        "\n",
        "# Feature selection\n",
        "X = df[['Pclass', 'Sex', 'Age']]\n",
        "y = df['Survived']\n",
        "\n",
        "# Identify and handle outliers using Interquartile Range (IQR)\n",
        "def handle_outliers(df, column):\n",
        "    Q1 = df[column].quantile(0.25)\n",
        "    Q3 = df[column].quantile(0.75)\n",
        "    IQR = Q3 - Q1\n",
        "    lower = Q1 - 1.5 * IQR\n",
        "    upper = Q3 + 1.5 * IQR\n",
        "    df[column] = df[column].apply(lambda x: upper if x > upper else (lower if x < lower else x))\n",
        "\n",
        "handle_outliers(df, 'Age')\n",
        "\n",
        "# Handle data imbalance using SMOTE\n",
        "smote = SMOTE(random_state=0)\n",
        "X, y = smote.fit_resample(X, y)\n",
        "\n",
        "# Dimensionality reduction using Principle component analysis\n",
        "pca = PCA(n_components=2)\n",
        "X = pca.fit_transform(X)\n",
        "\n",
        "X_train, X_test, y_train, y_test = train_test_split(X, y, random_state=0, test_size=0.3)\n",
        "nb=GaussianNB()\n",
        "nb.fit(X_train,y_train)\n",
        "\n",
        "y_pred1=nb.predict(X_test)\n",
        "\n",
        "print(\"Naive Bayes: \",accuracy_score(y_test,y_pred1))\n"
      ],
      "metadata": {
        "colab": {
          "base_uri": "https://localhost:8080/"
        },
        "id": "A6F0NS-2L1JZ",
        "outputId": "226dc18e-3c23-4e52-a34b-5de5b88e5f38"
      },
      "execution_count": 2,
      "outputs": [
        {
          "output_type": "stream",
          "name": "stdout",
          "text": [
            "Naive Bayes:  0.6\n"
          ]
        }
      ]
    },
    {
      "cell_type": "code",
      "source": [
        "#3. KNN\n",
        "import pandas as pd\n",
        "from sklearn.model_selection import train_test_split\n",
        "from sklearn.neighbors import KNeighborsClassifier\n",
        "from sklearn.metrics import accuracy_score\n",
        "from sklearn.preprocessing import LabelEncoder\n",
        "from imblearn.over_sampling import SMOTE\n",
        "from sklearn.decomposition import PCA\n",
        "\n",
        "df = pd.read_csv('tested.csv')\n",
        "\n",
        "df = df[['Pclass', 'Sex', 'Survived', 'Age']]\n",
        "\n",
        "# Handle missing values\n",
        "df['Age'].fillna(df['Age'].median(), inplace=True)\n",
        "\n",
        "# Convert categorical variables into numeric variables\n",
        "df['Sex'] = df['Sex'].map({'male': 0, 'female': 1})\n",
        "\n",
        "# Feature selection\n",
        "X = df[['Pclass', 'Sex', 'Age']]\n",
        "y = df['Survived']\n",
        "\n",
        "# Identify and handle outliers using Interquartile Range (IQR)\n",
        "def handle_outliers(df, column):\n",
        "    Q1 = df[column].quantile(0.25)\n",
        "    Q3 = df[column].quantile(0.75)\n",
        "    IQR = Q3 - Q1\n",
        "    lower = Q1 - 1.5 * IQR\n",
        "    upper = Q3 + 1.5 * IQR\n",
        "    df[column] = df[column].apply(lambda x: upper if x > upper else (lower if x < lower else x))\n",
        "\n",
        "handle_outliers(df, 'Age')\n",
        "\n",
        "# Handle data imbalance using SMOTE\n",
        "smote = SMOTE(random_state=0)\n",
        "X, y = smote.fit_resample(X, y)\n",
        "\n",
        "# Dimensionality reduction using PCA\n",
        "pca = PCA(n_components=2)\n",
        "X = pca.fit_transform(X)\n",
        "\n",
        "X_train, X_test, y_train, y_test = train_test_split(X, y, random_state=0, test_size=0.3)\n",
        "\n",
        "knn = KNeighborsClassifier(n_neighbors=5)\n",
        "\n",
        "knn.fit(X_train, y_train)\n",
        "\n",
        "y_pred = knn.predict(X_test)\n",
        "\n",
        "# Print evaluation metrics\n",
        "print('Accuracy:', accuracy_score(y_test, y_pred))"
      ],
      "metadata": {
        "colab": {
          "base_uri": "https://localhost:8080/"
        },
        "id": "rpXovRVhNdOn",
        "outputId": "a52ada8b-698c-4782-fffb-69823499e723"
      },
      "execution_count": 4,
      "outputs": [
        {
          "output_type": "stream",
          "name": "stdout",
          "text": [
            "Accuracy: 0.70625\n"
          ]
        }
      ]
    },
    {
      "cell_type": "code",
      "source": [
        "#4. Decision Tree\n",
        "\n",
        "from sklearn import tree\n",
        "from sklearn.metrics import accuracy_score\n",
        "from sklearn.model_selection import train_test_split\n",
        "\n",
        "dt=tree.DecisionTreeClassifier()\n",
        "df = pd.read_csv('tested.csv')\n",
        "\n",
        "df = df[['Pclass', 'Sex', 'Survived', 'Age']]\n",
        "\n",
        "# Handle missing values\n",
        "df['Age'].fillna(df['Age'].median(), inplace=True)\n",
        "\n",
        "# Convert categorical variables into numeric variables\n",
        "df['Sex'] = df['Sex'].map({'male': 0, 'female': 1})\n",
        "\n",
        "# Feature selection\n",
        "X = df[['Pclass', 'Sex', 'Age']]\n",
        "y = df['Survived']\n",
        "\n",
        "# Identify and handle outliers using Interquartile Range (IQR)\n",
        "def handle_outliers(df, column):\n",
        "    Q1 = df[column].quantile(0.25)\n",
        "    Q3 = df[column].quantile(0.75)\n",
        "    IQR = Q3 - Q1\n",
        "    lower = Q1 - 1.5 * IQR\n",
        "    upper = Q3 + 1.5 * IQR\n",
        "    df[column] = df[column].apply(lambda x: upper if x > upper else (lower if x < lower else x))\n",
        "\n",
        "handle_outliers(df, 'Age')\n",
        "\n",
        "# Handle data imbalance using SMOTE\n",
        "smote = SMOTE(random_state=0)\n",
        "X, y = smote.fit_resample(X, y)\n",
        "\n",
        "# Dimensionality reduction using Principle component analysis\n",
        "pca = PCA(n_components=2)\n",
        "X = pca.fit_transform(X)\n",
        "\n",
        "X_train, X_test, y_train, y_test = train_test_split(X, y, random_state=0, test_size=0.3)\n",
        "\n",
        "train=dt.fit(X_train,y_train)\n",
        "\n",
        "y_pred=dt.predict(X_test)\n",
        "\n",
        "print(accuracy_score(y_test,y_pred))\n"
      ],
      "metadata": {
        "colab": {
          "base_uri": "https://localhost:8080/"
        },
        "id": "n8bVntYSNql2",
        "outputId": "70aa6175-938f-4bf2-d7a6-81b7ea194e26"
      },
      "execution_count": 5,
      "outputs": [
        {
          "output_type": "stream",
          "name": "stdout",
          "text": [
            "0.9\n"
          ]
        }
      ]
    },
    {
      "cell_type": "code",
      "source": [
        "# 5. Random Forest\n",
        "\n",
        "from sklearn.model_selection import train_test_split\n",
        "from sklearn.metrics import accuracy_score\n",
        "from sklearn.ensemble import RandomForestClassifier\n",
        "\n",
        "rf=RandomForestClassifier()\n",
        "df = pd.read_csv('tested.csv')\n",
        "\n",
        "df = df[['Pclass', 'Sex', 'Survived', 'Age']]\n",
        "\n",
        "# Handle missing values\n",
        "df['Age'].fillna(df['Age'].median(), inplace=True)\n",
        "\n",
        "# Convert categorical variables into numeric variables\n",
        "df['Sex'] = df['Sex'].map({'male': 0, 'female': 1})\n",
        "\n",
        "# Feature selection\n",
        "X = df[['Pclass', 'Sex', 'Age']]\n",
        "y = df['Survived']\n",
        "\n",
        "# Identify and handle outliers using Interquartile Range (IQR)\n",
        "def handle_outliers(df, column):\n",
        "    Q1 = df[column].quantile(0.25)\n",
        "    Q3 = df[column].quantile(0.75)\n",
        "    IQR = Q3 - Q1\n",
        "    lower = Q1 - 1.5 * IQR\n",
        "    upper = Q3 + 1.5 * IQR\n",
        "    df[column] = df[column].apply(lambda x: upper if x > upper else (lower if x < lower else x))\n",
        "\n",
        "handle_outliers(df, 'Age')\n",
        "\n",
        "# Handle data imbalance using SMOTE\n",
        "smote = SMOTE(random_state=0)\n",
        "X, y = smote.fit_resample(X, y)\n",
        "\n",
        "# Dimensionality reduction using Principle component analysis\n",
        "pca = PCA(n_components=2)\n",
        "X = pca.fit_transform(X)\n",
        "\n",
        "X_train, X_test, y_train, y_test = train_test_split(X, y, random_state=0, test_size=0.3)\n",
        "train=rf.fit(X_train,y_train)\n",
        "\n",
        "y_pred=rf.predict(X_test)\n",
        "\n",
        "print(accuracy_score(y_test,y_pred))"
      ],
      "metadata": {
        "colab": {
          "base_uri": "https://localhost:8080/"
        },
        "id": "Yi6qhF4QN7s9",
        "outputId": "cf2068b6-f510-4fc9-bf7d-b0b8b032fb6f"
      },
      "execution_count": 6,
      "outputs": [
        {
          "output_type": "stream",
          "name": "stdout",
          "text": [
            "0.85\n"
          ]
        }
      ]
    },
    {
      "cell_type": "code",
      "source": [
        "#6. GRADIENT BOOSTING\n",
        "import pandas as pd\n",
        "from sklearn.model_selection import train_test_split\n",
        "from sklearn.ensemble import GradientBoostingClassifier\n",
        "from sklearn.metrics import accuracy_score\n",
        "from imblearn.over_sampling import SMOTE\n",
        "from sklearn.decomposition import PCA\n",
        "\n",
        "df = pd.read_csv('tested.csv')\n",
        "\n",
        "df = df[['Pclass', 'Sex', 'Survived', 'Age']]\n",
        "\n",
        "df['Age'].fillna(df['Age'].median(), inplace=True)\n",
        "\n",
        "# Convert categorical variables into numeric variables\n",
        "df['Sex'] = df['Sex'].map({'male': 0, 'female': 1})\n",
        "\n",
        "# Feature selection\n",
        "X = df[['Pclass', 'Sex', 'Age']]\n",
        "y = df['Survived']\n",
        "\n",
        "# Identify and handle outliers using Interquartile Range (IQR)\n",
        "def handle_outliers(df, column):\n",
        "    Q1 = df[column].quantile(0.25)\n",
        "    Q3 = df[column].quantile(0.75)\n",
        "    IQR = Q3 - Q1\n",
        "    lower = Q1 - 1.5 * IQR\n",
        "    upper = Q3 + 1.5 * IQR\n",
        "    df[column] = df[column].apply(lambda x: upper if x > upper else (lower if x < lower else x))\n",
        "\n",
        "handle_outliers(df, 'Age')\n",
        "\n",
        "# Handle data imbalance using SMOTE\n",
        "smote = SMOTE(random_state=0)\n",
        "X, y = smote.fit_resample(X, y)\n",
        "\n",
        "# Dimensionality reduction using PCA\n",
        "pca = PCA(n_components=2)\n",
        "X = pca.fit_transform(X)\n",
        "\n",
        "# Split the data into training and testing sets\n",
        "X_train, X_test, y_train, y_test = train_test_split(X, y, random_state=0, test_size=0.3)\n",
        "\n",
        "gbm = GradientBoostingClassifier(n_estimators=10)\n",
        "\n",
        "gbm.fit(X_train, y_train)\n",
        "\n",
        "y_pred = gbm.predict(X_test)\n",
        "\n",
        "# Print evaluation metrics\n",
        "print(\"GBM Accuracy:\", accuracy_score(y_test, y_pred))"
      ],
      "metadata": {
        "colab": {
          "base_uri": "https://localhost:8080/"
        },
        "id": "C2O5tUzeOC1J",
        "outputId": "a0f3cfb8-7bd7-4766-cfb1-6a9d1afb2fa3"
      },
      "execution_count": 7,
      "outputs": [
        {
          "output_type": "stream",
          "name": "stdout",
          "text": [
            "GBM Accuracy: 0.675\n"
          ]
        }
      ]
    }
  ]
}